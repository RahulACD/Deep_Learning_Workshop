{
  "cells": [
    {
      "cell_type": "markdown",
      "source": [
        "Artificial  intelligence and Machine learning workshop\n",
        "Worksheet - 0"
      ],
      "metadata": {
        "id": "idG59dfiB8ML"
      }
    },
    {
      "cell_type": "markdown",
      "metadata": {
        "id": "xIUEwBjfluEh"
      },
      "source": [
        "# 4. To-Do-Exercise\n",
        "**4.1 Exercise on Function**"
      ]
    },
    {
      "cell_type": "code",
      "execution_count": null,
      "metadata": {
        "id": "0WuXCxfFmGn2"
      },
      "outputs": [],
      "source": [
        "def unit_converter():\n",
        "    \"\"\"Converts between different units of measurement based on user choice.\"\"\"\n",
        "    print(\"Welcome to the Unit Converter!\")\n",
        "    print(\"Please choose a conversion type:\")\n",
        "    conversions = {\n",
        "        \"1\": (\"Meters to Feet\", lambda x: x * 3.28084),\n",
        "        \"2\": (\"Feet to Meters\", lambda x: x / 3.28084),\n",
        "        \"3\": (\"Kilograms to Pounds\", lambda x: x * 2.20462),\n",
        "        \"4\": (\"Pounds to Kilograms\", lambda x: x / 2.20462),\n",
        "        \"5\": (\"Liters to Gallons\", lambda x: x * 0.264172),\n",
        "        \"6\": (\"Gallons to Liters\", lambda x: x / 0.264172),\n",
        "    }\n",
        "    while True:\n",
        "        # Display conversion options\n",
        "        print(\"\\nChoose a conversion type:\")\n",
        "        for key, (desc, _) in conversions.items():\n",
        "            print(f\"{key}. {desc}\")\n",
        "        choice = input(\"Enter 1, 2, 3, 4, 5, or 6: \").strip()\n",
        "        if choice not in conversions:\n",
        "            print(\"Invalid choice. Please try again.\")\n",
        "            continue  # Restart the loop\n",
        "        try:\n",
        "            value = float(input(\"Enter the value to convert: \").strip())\n",
        "            print(f\"Converted Value: {conversions[choice][1](value):.4f}\")  # Format output to 4 decimals\n",
        "        except ValueError:\n",
        "            print(\"Invalid input. Please enter a numeric value.\")\n",
        "            continue  # Restart the loop\n",
        "        # Ask the user if they want to perform another conversion\n",
        "        restart = input(\"Would you like to perform another operation? (yes/no): \").strip().lower()\n",
        "        if restart != \"yes\":\n",
        "            print(\"Exiting the unit converter. Goodbye!\")\n",
        "            break"
      ]
    },
    {
      "cell_type": "code",
      "execution_count": null,
      "metadata": {
        "colab": {
          "base_uri": "https://localhost:8080/"
        },
        "id": "Hus0Zq9bA4Md",
        "outputId": "35f8e46f-0151-4485-b166-a55791a17075"
      },
      "outputs": [
        {
          "output_type": "stream",
          "name": "stdout",
          "text": [
            "Welcome to the Unit Converter!\n",
            "Please choose a conversion type:\n",
            "\n",
            "Choose a conversion type:\n",
            "1. Meters to Feet\n",
            "2. Feet to Meters\n",
            "3. Kilograms to Pounds\n",
            "4. Pounds to Kilograms\n",
            "5. Liters to Gallons\n",
            "6. Gallons to Liters\n",
            "Enter 1, 2, 3, 4, 5, or 6: 6\n",
            "Enter the value to convert: 11\n",
            "Converted Value: 41.6395\n",
            "Would you like to perform another operation? (yes/no): No\n",
            "Exiting the unit converter. Goodbye!\n"
          ]
        }
      ],
      "source": [
        "unit_converter()"
      ]
    },
    {
      "cell_type": "markdown",
      "source": [
        "# Task 2"
      ],
      "metadata": {
        "id": "sd26PdnNsaWh"
      }
    },
    {
      "cell_type": "code",
      "source": [
        "def list_operations():\n",
        "    \"\"\"Performs basic math operations (sum, average, max, min) on a list of numbers.\"\"\"\n",
        "    print(\"Choose an operation:\")\n",
        "    print(\"1. Sum\")\n",
        "    print(\"2. Average\")\n",
        "    print(\"3. Maximum\")\n",
        "    print(\"4. Minimum\")\n",
        "    choice = input(\"Enter 1, 2, 3, or 4: \")\n",
        "    if choice not in [\"1\", \"2\", \"3\", \"4\"]:\n",
        "        print(\"Invalid choice.\")\n",
        "        return\n",
        "    try:\n",
        "        numbers = list(map(float, input(\"Enter numbers separated by space: \").split()))\n",
        "        if not numbers:\n",
        "            print(\"Error: List is empty.\")\n",
        "            return\n",
        "        if choice == \"1\":\n",
        "            print(\"Sum:\", sum(numbers))\n",
        "        elif choice == \"2\":\n",
        "            print(\"Average:\", sum(numbers) / len(numbers))\n",
        "        elif choice == \"3\":\n",
        "            print(\"Maximum:\", max(numbers))\n",
        "        elif choice == \"4\":\n",
        "            print(\"Minimum:\", min(numbers))\n",
        "    except ValueError:\n",
        "        print(\"Invalid input. Please enter numeric values.\")"
      ],
      "metadata": {
        "id": "jv9aHXLIqMYD"
      },
      "execution_count": null,
      "outputs": []
    },
    {
      "cell_type": "code",
      "source": [
        "list_operations()"
      ],
      "metadata": {
        "colab": {
          "base_uri": "https://localhost:8080/"
        },
        "id": "Wo3gkbQHqTzj",
        "outputId": "f5dcf83e-18bb-4c88-a607-dcb0d03d2e2e"
      },
      "execution_count": null,
      "outputs": [
        {
          "output_type": "stream",
          "name": "stdout",
          "text": [
            "Choose an operation:\n",
            "1. Sum\n",
            "2. Average\n",
            "3. Maximum\n",
            "4. Minimum\n",
            "Enter 1, 2, 3, or 4: 3\n",
            "Enter numbers separated by space: 6 6 6 8\n",
            "Maximum: 8.0\n"
          ]
        }
      ]
    },
    {
      "cell_type": "markdown",
      "source": [
        "4.2 Exercise on List Manipulation:\n"
      ],
      "metadata": {
        "id": "9TL7Y0RZtI5u"
      }
    },
    {
      "cell_type": "markdown",
      "source": [
        "1. Extract Every Other Element:\n"
      ],
      "metadata": {
        "id": "unqZRp5ftMpu"
      }
    },
    {
      "cell_type": "code",
      "source": [
        "def extract_every_other(lst):\n",
        "    \"\"\"\n",
        "    Extracts every other element from a list, starting from the first element.\n",
        "    Parameters:\n",
        "        lst (list): The input list.\n",
        "    Returns:\n",
        "        list: A new list containing every other element from the original list.\n",
        "    \"\"\"\n",
        "    return lst[::2]\n",
        "New_list = [1, 3, 5, 7, 8, 9]\n",
        "Extract_list = extract_every_other(New_list)\n",
        "print(Extract_list)"
      ],
      "metadata": {
        "colab": {
          "base_uri": "https://localhost:8080/"
        },
        "id": "FyLdMSDjtRVY",
        "outputId": "fc9dd5ba-1ff8-454f-aa9b-8549dee1f033"
      },
      "execution_count": null,
      "outputs": [
        {
          "output_type": "stream",
          "name": "stdout",
          "text": [
            "[1, 5, 8]\n"
          ]
        }
      ]
    },
    {
      "cell_type": "markdown",
      "source": [
        "2. Slice a Sublist:"
      ],
      "metadata": {
        "id": "AfqhcpGhvktP"
      }
    },
    {
      "cell_type": "code",
      "source": [
        "def get_sublist(lst, start, end):\n",
        "    \"\"\"\n",
        "    Returns a sublist from a given list, starting from a specified index and ending at another specified index.\n",
        "    Parameters:\n",
        "        lst (list): The input list.\n",
        "        start (int): The starting index (inclusive).\n",
        "        end (int): The ending index (inclusive).\n",
        "    Returns:\n",
        "        list: A new list containing elements from the specified range.\n",
        "    \"\"\"\n",
        "    return lst[start:end+1]  # +1 to include the end index\n",
        "list = [11, 22, 33, 43, 54, 67]\n",
        "result = get_sublist(list, 2, 4)\n",
        "print(result)"
      ],
      "metadata": {
        "colab": {
          "base_uri": "https://localhost:8080/"
        },
        "id": "FFcNOPCU-aqL",
        "outputId": "14b12607-f459-4dca-cdaa-621d3b2d9070"
      },
      "execution_count": null,
      "outputs": [
        {
          "output_type": "stream",
          "name": "stdout",
          "text": [
            "[33, 43, 54]\n"
          ]
        }
      ]
    },
    {
      "cell_type": "markdown",
      "source": [
        "3. Reverse a List Using Slicing:"
      ],
      "metadata": {
        "id": "84iSBHkO-01u"
      }
    },
    {
      "cell_type": "code",
      "source": [
        "def reverse_list(lst):\n",
        "    \"\"\"\n",
        "    Reverses a list using slicing.\n",
        "    Parameters:\n",
        "        lst (list): The input list.\n",
        "    Returns:\n",
        "        list: A new list with elements in reverse order.\n",
        "    \"\"\"\n",
        "    return lst[::-1]  # Slicing with step -1 reverses the list\n",
        "# Example usage\n",
        "list = [12, 23, 34, 45, 56]\n",
        "result = reverse_list(list)\n",
        "print(result)"
      ],
      "metadata": {
        "colab": {
          "base_uri": "https://localhost:8080/"
        },
        "id": "DcAatAJk-4eW",
        "outputId": "bea3c263-7466-4844-835b-cfbb648ea0b4"
      },
      "execution_count": null,
      "outputs": [
        {
          "output_type": "stream",
          "name": "stdout",
          "text": [
            "[56, 45, 34, 23, 12]\n"
          ]
        }
      ]
    },
    {
      "cell_type": "markdown",
      "source": [
        "4. Remove the First and Last Elements:\n",
        "\n",
        "\n"
      ],
      "metadata": {
        "id": "9wcedxPVfWCI"
      }
    },
    {
      "cell_type": "code",
      "source": [
        "def remove_first_last(lst):\n",
        "    \"\"\"\n",
        "    Removes the first and last elements of a list and returns the resulting sublist.\n",
        "    Parameters:\n",
        "        lst (list): The input list.\n",
        "    Returns:\n",
        "        list: A new list without the first and last elements.\n",
        "    \"\"\"\n",
        "    return lst[1:-1]\n",
        "list = [12, 24, 36, 47, 59]\n",
        "result = remove_first_last(list)\n",
        "print(result)"
      ],
      "metadata": {
        "colab": {
          "base_uri": "https://localhost:8080/"
        },
        "id": "ttFlTiSFfn1r",
        "outputId": "9e095da4-533f-4009-ffe8-f459dfec3e00"
      },
      "execution_count": null,
      "outputs": [
        {
          "output_type": "stream",
          "name": "stdout",
          "text": [
            "[24, 36, 47]\n"
          ]
        }
      ]
    },
    {
      "cell_type": "markdown",
      "source": [
        "5. Get the First n Elements:"
      ],
      "metadata": {
        "id": "MZWGgXfq6_P7"
      }
    },
    {
      "cell_type": "code",
      "source": [
        "def get_first_n(lst, n):\n",
        "    \"\"\"\n",
        "    Extracts the first n elements from a list.\n",
        "    Parameters:\n",
        "        lst (list): The input list.\n",
        "        n (int): The number of elements to extract.\n",
        "    Returns:\n",
        "        list: A new list containing the first n elements.\n",
        "    \"\"\"\n",
        "    return lst[:n]\n",
        "list = [11, 22, 33, 44, 55]\n",
        "n = 3\n",
        "result = get_first_n(list, n)\n",
        "print(result)"
      ],
      "metadata": {
        "colab": {
          "base_uri": "https://localhost:8080/"
        },
        "id": "TaaBMisd6vQK",
        "outputId": "998d1264-c0ab-464f-9547-3f941fe64c82"
      },
      "execution_count": null,
      "outputs": [
        {
          "output_type": "stream",
          "name": "stdout",
          "text": [
            "[11, 22, 33]\n"
          ]
        }
      ]
    },
    {
      "cell_type": "markdown",
      "source": [
        "6. Extract Elements from the End:"
      ],
      "metadata": {
        "id": "iUN__Gbo7GZj"
      }
    },
    {
      "cell_type": "code",
      "source": [
        "def get_last_n(lst, n):\n",
        "    \"\"\"\n",
        "    Extracts the last n elements from a list.\n",
        "    Parameters:\n",
        "        lst (list): The input list.\n",
        "        n (int): The number of elements to extract from the end.\n",
        "    Returns:\n",
        "        list: A new list containing the last n elements.\n",
        "    \"\"\"\n",
        "    return lst[-n:]\n",
        "list = [14, 25, 33, 44, 55]\n",
        "n = 2\n",
        "result = get_last_n(list, n)\n",
        "print(result)"
      ],
      "metadata": {
        "colab": {
          "base_uri": "https://localhost:8080/"
        },
        "id": "5s4u76zc7Jr9",
        "outputId": "354074c2-900e-42e6-c64a-ee5a5217d4fb"
      },
      "execution_count": null,
      "outputs": [
        {
          "output_type": "stream",
          "name": "stdout",
          "text": [
            "[44, 55]\n"
          ]
        }
      ]
    },
    {
      "cell_type": "markdown",
      "source": [
        "7. Extract Elements in Reverse Order:\n"
      ],
      "metadata": {
        "id": "bW-RMH1j7mJi"
      }
    },
    {
      "cell_type": "code",
      "source": [
        "def reverse_skip(lst):\n",
        "    \"\"\"\n",
        "    Extracts elements in reverse order, starting from the second-to-last element\n",
        "    and skipping one element in between.\n",
        "    Parameters:\n",
        "        lst (list): The input list.\n",
        "    Returns:\n",
        "        list: A new list containing every second element in reverse order.\n",
        "    \"\"\"\n",
        "    return lst[-2::-2]\n",
        "list = [13, 25, 36, 45, 55, 66]\n",
        "result = reverse_skip(list)\n",
        "print(result)"
      ],
      "metadata": {
        "colab": {
          "base_uri": "https://localhost:8080/"
        },
        "id": "_DabSmTP7pVg",
        "outputId": "d2ce77e2-ed39-45c6-f408-cdb8aabd7b40"
      },
      "execution_count": null,
      "outputs": [
        {
          "output_type": "stream",
          "name": "stdout",
          "text": [
            "[55, 36, 13]\n"
          ]
        }
      ]
    },
    {
      "cell_type": "markdown",
      "source": [
        "# 4.3 Exercise on Nested List:"
      ],
      "metadata": {
        "id": "kX6qVdKE8qBQ"
      }
    },
    {
      "cell_type": "markdown",
      "source": [
        "1. Flatten a Nested List:"
      ],
      "metadata": {
        "id": "HuQ19ayd85tB"
      }
    },
    {
      "cell_type": "code",
      "source": [
        "def flatten(lst):\n",
        "    \"\"\"\n",
        "    Flattens a nested list into a single list without using recursion.\n",
        "    Parameters:\n",
        "        lst (list): The nested list to flatten.\n",
        "    Returns:\n",
        "        list: A new list containing all elements from the nested list in a single dimension.\n",
        "    \"\"\"\n",
        "    flat_list = sum(lst, [])\n",
        "    return flat_list\n",
        "list = [[1, 2], [3, 4], [5]]\n",
        "result = flatten(list)\n",
        "print(result)"
      ],
      "metadata": {
        "colab": {
          "base_uri": "https://localhost:8080/"
        },
        "id": "KM7_KiWo89mY",
        "outputId": "60a94b3d-4e99-40df-fbac-555f21cbbca8"
      },
      "execution_count": null,
      "outputs": [
        {
          "output_type": "stream",
          "name": "stdout",
          "text": [
            "[1, 2, 3, 4, 5]\n"
          ]
        }
      ]
    },
    {
      "cell_type": "markdown",
      "source": [
        "2. Accessing Nested List Elements:\n"
      ],
      "metadata": {
        "id": "E4aC8jv2Ff0Y"
      }
    },
    {
      "cell_type": "code",
      "source": [
        "def access_nested_element(lst, indices):\n",
        "    \"\"\"\n",
        "    Extracts a specific element from a nested list given its indices.\n",
        "    Parameters:\n",
        "        lst (list): The nested list.\n",
        "        indices (list): A list of indices representing the path to the desired element.\n",
        "    Returns:\n",
        "        any: The element at the specified indices.\n",
        "    \"\"\"\n",
        "    element = lst\n",
        "    for index in indices:\n",
        "        element = element[index]\n",
        "    return element\n",
        "nested_list = [[1, 2, 3], [4, 5, 6], [7, 8, 9]]\n",
        "indices = [2, 2]\n",
        "result = access_nested_element(nested_list, indices)\n",
        "print(result)"
      ],
      "metadata": {
        "colab": {
          "base_uri": "https://localhost:8080/"
        },
        "id": "tB9L-Q3ZFmxR",
        "outputId": "9e587fc3-4ecb-4bbc-8795-09ce4ed840cf"
      },
      "execution_count": null,
      "outputs": [
        {
          "output_type": "stream",
          "name": "stdout",
          "text": [
            "9\n"
          ]
        }
      ]
    },
    {
      "cell_type": "markdown",
      "source": [
        "3. Sum of All Elements in a Nested List:"
      ],
      "metadata": {
        "id": "0s_uWArMHbBw"
      }
    },
    {
      "cell_type": "code",
      "source": [
        "def sum_nested(lst):\n",
        "    total = 0\n",
        "    for item in lst:\n",
        "        if isinstance(item, list):\n",
        "            total += sum_nested(item)  # Recursively sum nested lists\n",
        "        else:\n",
        "            total += item\n",
        "nested_list = [[1, 2], [3, [4, 5]], 6]\n",
        "print(sum_nested(nested_list))"
      ],
      "metadata": {
        "colab": {
          "base_uri": "https://localhost:8080/"
        },
        "id": "Goa1jeA9N6u0",
        "outputId": "06870ba4-0dd1-4640-f5c6-bc67f94e7235"
      },
      "execution_count": null,
      "outputs": [
        {
          "output_type": "stream",
          "name": "stdout",
          "text": [
            "21\n"
          ]
        }
      ]
    },
    {
      "cell_type": "markdown",
      "source": [
        "4. Remove Specific Element from a Nested List:\n"
      ],
      "metadata": {
        "id": "Zt6SMIL4OR11"
      }
    },
    {
      "cell_type": "code",
      "source": [
        "def remove_element(lst, elem):\n",
        "    result = []\n",
        "    for item in lst:\n",
        "        if isinstance(item, list):\n",
        "            filtered_sublist = remove_element(item, elem)  # Recursively filter nested lists\n",
        "            if filtered_sublist:  # Only append non-empty lists\n",
        "                result.append(filtered_sublist)\n",
        "        elif item != elem:\n",
        "            result.append(item)  # Append only non-matching elements\n",
        "    return result\n",
        "nested_list = [[1, 2], [3, 2], [4, 5]]\n",
        "element_to_remove = 2\n",
        "print(remove_element(nested_list, element_to_remove))"
      ],
      "metadata": {
        "colab": {
          "base_uri": "https://localhost:8080/"
        },
        "id": "kX13wkgdOTxO",
        "outputId": "10c81076-fb17-41a6-d56c-d0f7210a0049"
      },
      "execution_count": null,
      "outputs": [
        {
          "output_type": "stream",
          "name": "stdout",
          "text": [
            "[[1], [3], [4, 5]]\n"
          ]
        }
      ]
    },
    {
      "cell_type": "markdown",
      "source": [
        "5. Find the Maximum Element in a Nested List:\n"
      ],
      "metadata": {
        "id": "U1YZIELyO5PH"
      }
    },
    {
      "cell_type": "code",
      "source": [
        "def find_max(lst):\n",
        "    max_val = float('-inf')\n",
        "    for item in lst:\n",
        "        if isinstance(item, list):\n",
        "            max_val = max(max_val, find_max(item))  # Recursively find max in nested lists\n",
        "        else:\n",
        "            max_val = max(max_val, item)  # Update max if item is greater\n",
        "    return max_val\n",
        "nested_list = [[1, 2], [3, [44, 5]], 7]\n",
        "print(find_max(nested_list))"
      ],
      "metadata": {
        "colab": {
          "base_uri": "https://localhost:8080/"
        },
        "id": "Ex21ZL5wO8M9",
        "outputId": "5bdc8ec6-3835-4462-b113-1ed49fb80a6c"
      },
      "execution_count": null,
      "outputs": [
        {
          "output_type": "stream",
          "name": "stdout",
          "text": [
            "44\n"
          ]
        }
      ]
    },
    {
      "cell_type": "markdown",
      "source": [
        "6. Count Occurrences of an Element in a Nested List:"
      ],
      "metadata": {
        "id": "DCLArmCIRJNX"
      }
    },
    {
      "cell_type": "code",
      "source": [
        "def count_occurrences(lst, elem):\n",
        "    count = 0\n",
        "    for item in lst:\n",
        "        if isinstance(item, list):\n",
        "            count += count_occurrences(item, elem)  # Recursively count occurrences in nested lists\n",
        "        elif item == elem:\n",
        "            count += 1  # Increment count if item matches elem\n",
        "    return count\n",
        "nested_list = [[1, 2], [2, 3], [2, 4]]\n",
        "element_to_count = 3\n",
        "print(count_occurrences(nested_list, element_to_count))"
      ],
      "metadata": {
        "colab": {
          "base_uri": "https://localhost:8080/"
        },
        "id": "6O-_JHdqRMq-",
        "outputId": "a0a42a30-941b-488e-8b33-715c9a932740"
      },
      "execution_count": null,
      "outputs": [
        {
          "output_type": "stream",
          "name": "stdout",
          "text": [
            "1\n"
          ]
        }
      ]
    },
    {
      "cell_type": "markdown",
      "source": [
        "7. Flatten a List of Lists of Lists:\n"
      ],
      "metadata": {
        "id": "HMwRluFVUWQZ"
      }
    },
    {
      "cell_type": "code",
      "source": [
        "def deep_flatten(lst):\n",
        "    flat_list = []\n",
        "    for item in lst:\n",
        "        if isinstance(item, list):\n",
        "            flat_list.extend(deep_flatten(item))  # Recursively flatten nested lists\n",
        "        else:\n",
        "            flat_list.append(item)\n",
        "    return flat_list\n",
        "nested_list = [[[1, 2], [3, 4]], [[5, 6], [7, 8]]]\n",
        "print(deep_flatten(nested_list))"
      ],
      "metadata": {
        "colab": {
          "base_uri": "https://localhost:8080/"
        },
        "id": "tufFzUmUUXZY",
        "outputId": "39b9914c-76c7-4349-9628-3ff14cd425d4"
      },
      "execution_count": null,
      "outputs": [
        {
          "output_type": "stream",
          "name": "stdout",
          "text": [
            "[1, 2, 3, 4, 5, 6, 7, 8]\n"
          ]
        }
      ]
    },
    {
      "cell_type": "markdown",
      "source": [
        "8. Nested List Average:\n"
      ],
      "metadata": {
        "id": "gRMFeGVXXBUc"
      }
    },
    {
      "cell_type": "code",
      "source": [
        "def sum_and_count(lst):\n",
        "    total = 0\n",
        "    count = 0\n",
        "    for item in lst:\n",
        "        if isinstance(item, list):\n",
        "            sub_total, sub_count = sum_and_count(item)  # Recursively sum and count elements\n",
        "            total += sub_total\n",
        "            count += sub_count\n",
        "        else:\n",
        "            total += item\n",
        "            count += 1\n",
        "    return total, count\n",
        "def average_nested(lst):\n",
        "    total, count = sum_and_count(lst)\n",
        "    return total / count if count > 0 else 0\n",
        "nested_list = [[1, 22], [3, 4], [5, 6]]\n",
        "print(average_nested(nested_list))"
      ],
      "metadata": {
        "colab": {
          "base_uri": "https://localhost:8080/"
        },
        "id": "6H02xM0rXFdy",
        "outputId": "26acc8ee-deef-44d9-bda0-1cd674e081ab"
      },
      "execution_count": null,
      "outputs": [
        {
          "output_type": "stream",
          "name": "stdout",
          "text": [
            "6.833333333333333\n"
          ]
        }
      ]
    },
    {
      "cell_type": "markdown",
      "source": [
        "# 10 To - Do - **NumPy**"
      ],
      "metadata": {
        "id": "FLKyX8pqZt4O"
      }
    },
    {
      "cell_type": "markdown",
      "source": [
        "10.1 Basic Vector and Matrix Operation with Numpy."
      ],
      "metadata": {
        "id": "zmsb45xoZxEd"
      }
    },
    {
      "cell_type": "markdown",
      "source": [
        "Problem - 1: Array Creation:"
      ],
      "metadata": {
        "id": "8-1_EGLBZ1dl"
      }
    },
    {
      "cell_type": "code",
      "source": [
        "import numpy as np\n",
        "# 1. set an empty array with size 2x2\n",
        "empty_array = np.empty((2,2))\n",
        "# 2.set an all-one array with size 4x2\n",
        "ones_array = np.ones((4,2))\n",
        "# 3. Return a new array of given shape and type, filled with a given value\n",
        "filled_array = np.full((3,3), 7)\n",
        "# 4. Return a new array of zeros with the same shape and type as a given array\n",
        "reference_array = np.array([[1, 2], [3, 4]])\n",
        "zeros_like_array = np.zeros_like(reference_array)\n",
        "# 5. Return a new array of ones with the same shape and type as a given array\n",
        "ones_like_array = np.ones_like(reference_array)\n",
        "# 6. Convert an existing list to a numpy array\n",
        "new_list = [1, 2, 3, 4]\n",
        "numpy_array = np.array(new_list)\n",
        "print(\"1. Empty Array (2x2):\\n\", empty_array, \"\\n\")\n",
        "print(\"2. All Ones Array (4x2):\\n\", ones_array, \"\\n\")\n",
        "print(\"3. Filled Array (3x3) with 7:\\n\", filled_array, \"\\n\")\n",
        "print(\"4. Zeros Like Reference Array:\\n\", zeros_like_array, \"\\n\")\n",
        "print(\"5. Ones Like Reference Array:\\n\", ones_like_array, \"\\n\")\n",
        "print(\"6. Converted List to Numpy Array:\\n\", numpy_array, \"\\n\")"
      ],
      "metadata": {
        "colab": {
          "base_uri": "https://localhost:8080/"
        },
        "id": "leOqG425a4iu",
        "outputId": "c873e574-516e-4a0d-935b-f9e0ec59ef71"
      },
      "execution_count": null,
      "outputs": [
        {
          "output_type": "stream",
          "name": "stdout",
          "text": [
            "1. Empty Array (2x2):\n",
            " [[2.74412928e-316 0.00000000e+000]\n",
            " [1.68891191e-052 9.72679674e-067]] \n",
            "\n",
            "2. All Ones Array (4x2):\n",
            " [[1. 1.]\n",
            " [1. 1.]\n",
            " [1. 1.]\n",
            " [1. 1.]] \n",
            "\n",
            "3. Filled Array (3x3) with 7:\n",
            " [[7 7 7]\n",
            " [7 7 7]\n",
            " [7 7 7]] \n",
            "\n",
            "4. Zeros Like Reference Array:\n",
            " [[0 0]\n",
            " [0 0]] \n",
            "\n",
            "5. Ones Like Reference Array:\n",
            " [[1 1]\n",
            " [1 1]] \n",
            "\n",
            "6. Converted List to Numpy Array:\n",
            " [1 2 3 4] \n",
            "\n"
          ]
        }
      ]
    },
    {
      "cell_type": "markdown",
      "source": [
        "Problem - 2: Array Manipulation: Numerical Ranges and Array indexing:\n"
      ],
      "metadata": {
        "id": "degOcCWKbMvX"
      }
    },
    {
      "cell_type": "code",
      "source": [
        "# 1. Create an array with values ranging from 10 to 49\n",
        "array_range = np.arange(10, 50)\n",
        "print(\"1. Array with values from 10 to 49:\\n\", array_range, \"\\n\")\n",
        "# 2. Create a 3x3 matrix with values ranging from 0 to 8\n",
        "matrix_3x3 = np.arange(9).reshape(3, 3)\n",
        "print(\"2. 3x3 Matrix with values from 0 to 8:\\n\", matrix_3x3, \"\\n\")\n",
        "# 3. Create a 3x3 identity matrix\n",
        "identity_matrix = np.eye(3)\n",
        "print(\"3. 3x3 Identity Matrix:\\n\", identity_matrix, \"\\n\")\n",
        "# 4. Create a random array of size 30 and find the mean of the array\n",
        "random_array_30 = np.random.random(30)\n",
        "mean_value = random_array_30.mean()\n",
        "print(\"4. Mean of a random array of size 30:\", mean_value, \"\\n\")\n",
        "# 5. Create a 10x10 array with random values and find the min and max values\n",
        "random_matrix_10x10 = np.random.random((10, 10))\n",
        "min_value = random_matrix_10x10.min()\n",
        "max_value = random_matrix_10x10.max()\n",
        "print(\"5. 10x10 Random Matrix Min Value:\", min_value)\n",
        "print(\"   10x10 Random Matrix Max Value:\", max_value, \"\\n\")\n",
        "# 6. Create a zero array of size 10 and replace the 5th element with 1\n",
        "zero_array = np.zeros(10)\n",
        "zero_array[4] = 1\n",
        "print(\"6. Zero Array with 5th element as 1:\\n\", zero_array, \"\\n\")\n",
        "# 7. Reverse an array arr = [1,2,0,0,4,0]\n",
        "arr = np.array([1,2,0,0,4,0])\n",
        "reversed_arr = arr[::-1]\n",
        "print(\"7. Reversed Array:\\n\", reversed_arr, \"\\n\")\n",
        "# 8. Create a 2D array with 1 on the border and 0 inside\n",
        "border_array = np.ones((5,5))\n",
        "border_array[1:-1, 1:-1] = 0\n",
        "print(\"8. 2D Array with border 1 and inside 0:\\n\", border_array, \"\\n\")\n",
        "# 9. Create an 8x8 matrix and fill it with a checkerboard pattern\n",
        "checkerboard = np.zeros((8,8), dtype=int)\n",
        "checkerboard[1::2, ::2] = 1  # Filling 1s at alternate positions\n",
        "checkerboard[::2, 1::2] = 1\n",
        "print(\"9. 8x8 Checkerboard Pattern:\\n\", checkerboard, \"\\n\")\n"
      ],
      "metadata": {
        "colab": {
          "base_uri": "https://localhost:8080/"
        },
        "id": "VTc7O03ebPw4",
        "outputId": "f6db85d4-79f1-4b5d-cedb-ba0d0a368aa4"
      },
      "execution_count": null,
      "outputs": [
        {
          "output_type": "stream",
          "name": "stdout",
          "text": [
            "1. Array with values from 10 to 49:\n",
            " [10 11 12 13 14 15 16 17 18 19 20 21 22 23 24 25 26 27 28 29 30 31 32 33\n",
            " 34 35 36 37 38 39 40 41 42 43 44 45 46 47 48 49] \n",
            "\n",
            "2. 3x3 Matrix with values from 0 to 8:\n",
            " [[0 1 2]\n",
            " [3 4 5]\n",
            " [6 7 8]] \n",
            "\n",
            "3. 3x3 Identity Matrix:\n",
            " [[1. 0. 0.]\n",
            " [0. 1. 0.]\n",
            " [0. 0. 1.]] \n",
            "\n",
            "4. Mean of a random array of size 30: 0.5421834250114368 \n",
            "\n",
            "5. 10x10 Random Matrix Min Value: 0.0011689284598189742\n",
            "   10x10 Random Matrix Max Value: 0.998620497187362 \n",
            "\n",
            "6. Zero Array with 5th element as 1:\n",
            " [0. 0. 0. 0. 1. 0. 0. 0. 0. 0.] \n",
            "\n",
            "7. Reversed Array:\n",
            " [0 4 0 0 2 1] \n",
            "\n",
            "8. 2D Array with border 1 and inside 0:\n",
            " [[1. 1. 1. 1. 1.]\n",
            " [1. 0. 0. 0. 1.]\n",
            " [1. 0. 0. 0. 1.]\n",
            " [1. 0. 0. 0. 1.]\n",
            " [1. 1. 1. 1. 1.]] \n",
            "\n",
            "9. 8x8 Checkerboard Pattern:\n",
            " [[0 1 0 1 0 1 0 1]\n",
            " [1 0 1 0 1 0 1 0]\n",
            " [0 1 0 1 0 1 0 1]\n",
            " [1 0 1 0 1 0 1 0]\n",
            " [0 1 0 1 0 1 0 1]\n",
            " [1 0 1 0 1 0 1 0]\n",
            " [0 1 0 1 0 1 0 1]\n",
            " [1 0 1 0 1 0 1 0]] \n",
            "\n"
          ]
        }
      ]
    },
    {
      "cell_type": "markdown",
      "source": [
        "Problem - 3: Array Operations:"
      ],
      "metadata": {
        "id": "cvIAnH-lb-RO"
      }
    },
    {
      "cell_type": "code",
      "source": [
        "# Define the given arrays\n",
        "x = np.array([[1, 2], [3, 5]])\n",
        "y = np.array([[5, 6], [7, 8]])\n",
        "v = np.array([9, 10])\n",
        "w = np.array([11, 12])\n",
        "# 1. Add the two arrays x and y\n",
        "sum_xy = x + y\n",
        "print(\"1. Sum of x and y:\\n\", sum_xy, \"\\n\")\n",
        "# 2. Subtract the two arrays x and y\n",
        "diff_xy = x - y\n",
        "print(\"2. Difference of x and y:\\n\", diff_xy, \"\\n\")\n",
        "\n",
        "# 3. Multiply the array x with an integer (e.g., 3)\n",
        "multiplied_x = x * 3\n",
        "print(\"3. x multiplied by 3:\\n\", multiplied_x, \"\\n\")\n",
        "# 4. Find the square of each element of x\n",
        "square_x = np.square(x)\n",
        "print(\"4. Square of elements in x:\\n\", square_x, \"\\n\")\n",
        "\n",
        "# 5. Find the dot product between:\n",
        "dot_vw = np.dot(v, w)  # v . w\n",
        "dot_xv = np.dot(x, v)  # x . v\n",
        "dot_xy = np.dot(x, y)  # x . y\n",
        "print(\"5. Dot product v . w:\", dot_vw)\n",
        "print(\"   Dot product x . v:\\n\", dot_xv)\n",
        "print(\"   Dot product x . y:\\n\", dot_xy, \"\\n\")\n",
        "# 6. Concatenate x and y along rows & v and w along columns\n",
        "concat_xy_row = np.concatenate((x, y), axis=0)  # Row-wise concatenation\n",
        "concat_vw_col = np.column_stack((v, w))  # Column-wise concatenation\n",
        "print(\"6. Concatenation of x and y along rows:\\n\", concat_xy_row, \"\\n\")\n",
        "print(\"   Concatenation of v and w along columns:\\n\", concat_vw_col, \"\\n\")\n",
        "# 7. Attempt to concatenate x and v\n",
        "try:\n",
        "    concat_xv = np.concatenate((x, v), axis=0)  # This should raise an error\n",
        "except ValueError as e:\n",
        "    concat_xv = str(e)  # Capture the error message\n",
        "print(\"7. Attempt to Concatenate x and v (Expected Error):\\n\", concat_xv, \"\\n\")"
      ],
      "metadata": {
        "colab": {
          "base_uri": "https://localhost:8080/"
        },
        "id": "i88baxWCc5kz",
        "outputId": "3e30b9d0-e94e-415a-9130-06e94a299f0c"
      },
      "execution_count": null,
      "outputs": [
        {
          "output_type": "stream",
          "name": "stdout",
          "text": [
            "1. Sum of x and y:\n",
            " [[ 6  8]\n",
            " [10 13]] \n",
            "\n",
            "2. Difference of x and y:\n",
            " [[-4 -4]\n",
            " [-4 -3]] \n",
            "\n",
            "3. x multiplied by 3:\n",
            " [[ 3  6]\n",
            " [ 9 15]] \n",
            "\n",
            "4. Square of elements in x:\n",
            " [[ 1  4]\n",
            " [ 9 25]] \n",
            "\n",
            "5. Dot product v . w: 219\n",
            "   Dot product x . v:\n",
            " [29 77]\n",
            "   Dot product x . y:\n",
            " [[19 22]\n",
            " [50 58]] \n",
            "\n",
            "6. Concatenation of x and y along rows:\n",
            " [[1 2]\n",
            " [3 5]\n",
            " [5 6]\n",
            " [7 8]] \n",
            "\n",
            "   Concatenation of v and w along columns:\n",
            " [[ 9 11]\n",
            " [10 12]] \n",
            "\n",
            "7. Attempt to Concatenate x and v (Expected Error):\n",
            " all the input arrays must have same number of dimensions, but the array at index 0 has 2 dimension(s) and the array at index 1 has 1 dimension(s) \n",
            "\n"
          ]
        }
      ]
    },
    {
      "cell_type": "markdown",
      "source": [
        "Problem - 4: Matrix Operations:\n"
      ],
      "metadata": {
        "id": "9M0pqjB_kiDQ"
      }
    },
    {
      "cell_type": "code",
      "source": [
        "# Define the given matrices A and B\n",
        "A = np.array([[3, 4], [7, 8]])\n",
        "B = np.array([[5, 3], [2, 1]])\n",
        "# 1. Prove A * A⁻¹ = I\n",
        "A_inv = np.linalg.inv(A)  # Compute inverse of A\n",
        "identity_matrix = np.dot(A, A_inv)  # A * A⁻¹\n",
        "print(\"1. A * A⁻¹ = Identity Matrix:\\n\", identity_matrix, \"\\n\")\n",
        "# 2. Prove AB ≠ BA\n",
        "AB = np.dot(A, B)\n",
        "BA = np.dot(B, A)\n",
        "is_AB_equal_BA = np.array_equal(AB, BA)  # Check if AB == BA\n",
        "print(\"2. AB ≠ BA (Matrix Multiplication is not commutative):\", is_AB_equal_BA, \"\\n\")\n",
        "\n",
        "# 3. Prove (AB)^T = B^T * A^T\n",
        "AB_T = np.transpose(AB)  # (AB)^T\n",
        "B_T_A_T = np.dot(np.transpose(B), np.transpose(A))  # B^T * A^T\n",
        "is_transpose_property_valid = np.array_equal(AB_T, B_T_A_T)  # Check if (AB)^T == B^T * A^T\n",
        "print(\"3. (AB)^T = B^T * A^T (Matrix Transpose Property):\", is_transpose_property_valid, \"\\n\")\n",
        "# Solve the system of linear equations using inverse method\n",
        "# Representing equations in matrix form: AX = B\n",
        "A_eq = np.array([[2, -3, 1], [1, -1, 2], [3, 1, -1]])\n",
        "B_eq = np.array([-1, -3, 9])\n",
        "# Solve for X using inverse method\n",
        "A_inv_eq = np.linalg.inv(A_eq)  # Compute inverse of A_eq\n",
        "X_solution = np.dot(A_inv_eq, B_eq)  # X = A⁻¹ * B\n",
        "print(\"4. Solution to the system of linear equations using Inverse Method:\\n\", X_solution)\n"
      ],
      "metadata": {
        "colab": {
          "base_uri": "https://localhost:8080/"
        },
        "id": "wEuRI3ONk5fX",
        "outputId": "2c4725e7-8b27-4ad2-e374-40deffcc31c9"
      },
      "execution_count": null,
      "outputs": [
        {
          "output_type": "stream",
          "name": "stdout",
          "text": [
            "1. A * A⁻¹ = Identity Matrix:\n",
            " [[1.00000000e+00 0.00000000e+00]\n",
            " [1.77635684e-15 1.00000000e+00]] \n",
            "\n",
            "2. AB ≠ BA (Matrix Multiplication is not commutative): False \n",
            "\n",
            "3. (AB)^T = B^T * A^T (Matrix Transpose Property): True \n",
            "\n",
            "4. Solution to the system of linear equations using Inverse Method:\n",
            " [ 2.  1. -2.]\n"
          ]
        }
      ]
    },
    {
      "cell_type": "markdown",
      "source": [
        "# 10.2 Experiment: How Fast is Numpy?"
      ],
      "metadata": {
        "id": "7CkdYcD1rjmR"
      }
    },
    {
      "cell_type": "code",
      "source": [
        "import numpy as np\n",
        "import time"
      ],
      "metadata": {
        "id": "hNVFaOjhqYM5"
      },
      "execution_count": null,
      "outputs": []
    },
    {
      "cell_type": "markdown",
      "source": [
        "1. Element-wise Addition:"
      ],
      "metadata": {
        "id": "Dk2VfemRruP3"
      }
    },
    {
      "cell_type": "code",
      "source": [
        "# Define size parameters\n",
        "size = 1_000_000  # 1 million elements\n",
        "matrix_size = 1000  # 1000x1000 matrix\n",
        "# Generate random data for lists and arrays\n",
        "list1 = [i for i in range(size)]\n",
        "list2 = [i for i in range(size)]\n",
        "array1 = np.arange(size)\n",
        "array2 = np.arange(size)\n",
        "# 1. Element-wise Addition\n",
        "# Using Python lists\n",
        "start_time = time.time()\n",
        "list_addition = [list1[i] + list2[i] for i in range(size)]\n",
        "list_add_time = time.time() - start_time\n",
        "# Using NumPy arrays\n",
        "start_time = time.time()\n",
        "array_addition = array1 + array2\n",
        "array_add_time = time.time() - start_time\n",
        "print(f\"Element-wise Addition - Python List Time: {list_add_time:.6f} sec\")\n",
        "print(f\"Element-wise Addition - NumPy Array Time: {array_add_time:.6f} sec\\n\")"
      ],
      "metadata": {
        "colab": {
          "base_uri": "https://localhost:8080/"
        },
        "id": "rxZuqGQRqvK4",
        "outputId": "cc5e80b8-3a91-4ea2-c1c3-136d3bf0f3ce"
      },
      "execution_count": null,
      "outputs": [
        {
          "output_type": "stream",
          "name": "stdout",
          "text": [
            "Element-wise Addition - Python List Time: 0.087779 sec\n",
            "Element-wise Addition - NumPy Array Time: 0.002814 sec\n",
            "\n"
          ]
        }
      ]
    },
    {
      "cell_type": "code",
      "source": [
        "# 2. Element-wise Multiplication\n",
        "# Using Python lists\n",
        "start_time = time.time()\n",
        "list_multiplication = [list1[i] * list2[i] for i in range(size)]\n",
        "list_mult_time = time.time() - start_time\n",
        "# Using NumPy arrays\n",
        "start_time = time.time()\n",
        "array_multiplication = array1 * array2\n",
        "array_mult_time = time.time() - start_time\n",
        "print(f\"Element-wise Multiplication - Python List Time: {list_mult_time:.6f} sec\")\n",
        "print(f\"Element-wise Multiplication - NumPy Array Time: {array_mult_time:.6f} sec\\n\")"
      ],
      "metadata": {
        "colab": {
          "base_uri": "https://localhost:8080/"
        },
        "id": "2qBNyUpktw_f",
        "outputId": "c5090f53-4f2a-4797-dd8f-e6eb74743825"
      },
      "execution_count": null,
      "outputs": [
        {
          "output_type": "stream",
          "name": "stdout",
          "text": [
            "Element-wise Multiplication - Python List Time: 0.073600 sec\n",
            "Element-wise Multiplication - NumPy Array Time: 0.004713 sec\n",
            "\n"
          ]
        }
      ]
    },
    {
      "cell_type": "code",
      "source": [
        "#3.Dot Product\n",
        "# Using Python lists\n",
        "start_time = time.time()\n",
        "dot_product_list = sum(list1[i] * list2[i] for i in range(size))\n",
        "list_dot_time = time.time() - start_time\n",
        "# Using NumPy arrays\n",
        "start_time = time.time()\n",
        "dot_product_array = np.dot(array1, array2)\n",
        "array_dot_time = time.time() - start_time\n",
        "print(f\"Dot Product - Python List Time: {list_dot_time:.6f} sec\")\n",
        "print(f\"Dot Product - NumPy Array Time: {array_dot_time:.6f} sec\\n\")"
      ],
      "metadata": {
        "colab": {
          "base_uri": "https://localhost:8080/"
        },
        "id": "sWUxcMLpuCLR",
        "outputId": "23181188-5ba4-40bf-eb0a-69176fb03713"
      },
      "execution_count": null,
      "outputs": [
        {
          "output_type": "stream",
          "name": "stdout",
          "text": [
            "Dot Product - Python List Time: 0.111098 sec\n",
            "Dot Product - NumPy Array Time: 0.001304 sec\n",
            "\n"
          ]
        }
      ]
    },
    {
      "cell_type": "code",
      "source": [
        "# 4. Matrix Multiplication (Skipping Python Lists Due to Slow Execution)\n",
        "# Generate random 1000x1000 matrices for NumPy\n",
        "array_matrix1 = np.arange(matrix_size**2).reshape(matrix_size, matrix_size)\n",
        "array_matrix2 = np.arange(matrix_size**2).reshape(matrix_size, matrix_size)\n",
        "# Using NumPy arrays\n",
        "start_time = time.time()\n",
        "array_matrix_result = np.dot(array_matrix1, array_matrix2)\n",
        "array_matrix_time = time.time() - start_time\n",
        "print(f\"Matrix Multiplication (1000x1000) - NumPy Array Time: {array_matrix_time:.6f} sec\")\n",
        "print(\"Matrix Multiplication using Python Lists skipped due to slow execution.\")"
      ],
      "metadata": {
        "colab": {
          "base_uri": "https://localhost:8080/"
        },
        "id": "ztsYsQeYua0N",
        "outputId": "f4723ea0-5b12-455c-fc1f-362c08c2c22b"
      },
      "execution_count": null,
      "outputs": [
        {
          "output_type": "stream",
          "name": "stdout",
          "text": [
            "Matrix Multiplication (1000x1000) - NumPy Array Time: 0.963412 sec\n",
            "Matrix Multiplication using Python Lists skipped due to slow execution.\n"
          ]
        }
      ]
    },
    {
      "cell_type": "markdown",
      "source": [
        "here we say that by the evaluating of the output.\n",
        "Numpy is more fater rather than python list in all operations.\n",
        "Matrix multiplication using Numpy is fater while python list are too much time taken for give the output."
      ],
      "metadata": {
        "id": "ESg8q9_h0X42"
      }
    }
  ],
  "metadata": {
    "colab": {
      "provenance": []
    },
    "kernelspec": {
      "display_name": "Python 3",
      "name": "python3"
    },
    "language_info": {
      "name": "python"
    }
  },
  "nbformat": 4,
  "nbformat_minor": 0
}